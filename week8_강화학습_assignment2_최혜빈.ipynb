{
 "cells": [
  {
   "cell_type": "markdown",
   "metadata": {},
   "source": [
    "과제 2. 강화학습 설계해보기"
   ]
  },
  {
   "cell_type": "markdown",
   "metadata": {},
   "source": [
    "주제: 강화학습으로 효율적인 콘서트 팬덤 관객 효율적으로 위치\n",
    "\n",
    "대충 상황은 한 가수의 무대가 끝날 때마다 팬덤의 객석 위치를 바꾸는 상황.(이미 무대가 끝난 가수의 팬은 퇴장) 그 다음 무대가수의 팬은 입장)\n",
    "예를 들어 콘서트장이 3층으로 이루어져 있을 때, abcde 1234...열로 되어있고\n",
    "나가는 문은 1층이라고 가정. \n",
    "각 팬덤의 수는 각각 다르고 가수 순서에 맞춰 입장하며 콘서트홀의 좌석수에 따라 팬들이 입장, 퇴장한다. 효율적으로 빠르게 입장 퇴장 할 수 있을지..!\n",
    "\n",
    "Environment: 각 구역별 객석 수, 가수들이 나오는 순서 등\n",
    "\n",
    "State: 각 팬덤 별로 퇴장한 사람 수, 남아있는 사람 수,(구역별로 확인) 각 팬덤별로 가장 오랜시간 퇴장 대기하고 있던 사람의 대기시간, 각 팬덤별로 평균 퇴장대기시간, 각 팬덤별로 가장 오랜시간 입장 대기하고 있던 사람의 대기시간, 각 팬덤별로 평균 입장대기시간\n",
    "\n",
    "Reward: 얼마나 효율적으로 팬덤이 입장퇴장 할 수 있는지를 결정.\n",
    "(이번 step에 입장하는 팬덤의 대기시간) -(각 팬덤별 가장 오래 입장대기한 팬의 대기시간)*1/2 + (이번 step에 퇴장하는 팬덤의 대기시간) -(각 팬덤별 가장 오래 퇴장대기한 팬의 대기시간)*1/2 -> 각 구역별로 reward 측정한다\n",
    "\n"
   ]
  }
 ],
 "metadata": {
  "kernelspec": {
   "display_name": "Python 3",
   "language": "python",
   "name": "python3"
  },
  "language_info": {
   "codemirror_mode": {
    "name": "ipython",
    "version": 3
   },
   "file_extension": ".py",
   "mimetype": "text/x-python",
   "name": "python",
   "nbconvert_exporter": "python",
   "pygments_lexer": "ipython3",
   "version": "3.7.4"
  }
 },
 "nbformat": 4,
 "nbformat_minor": 2
}
