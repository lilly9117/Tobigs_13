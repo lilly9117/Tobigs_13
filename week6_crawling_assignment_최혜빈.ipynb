{
 "cells": [
  {
   "cell_type": "markdown",
   "metadata": {},
   "source": [
    "### week6 크롤링 assignment - 최혜빈"
   ]
  },
  {
   "cell_type": "markdown",
   "metadata": {},
   "source": [
    "# 과제: 네이버 영화 정보 및 평점 크롤링"
   ]
  },
  {
   "cell_type": "markdown",
   "metadata": {},
   "source": [
    "- 대상: 예매순 상위 5개의 현재 상영 중인 영화\n",
    "- 수집할 항목: 영화 제목, 주연배우 3인, 네티즌 평점, 관람객 평점, 기자/평론가 평점, 관람객 별점 리뷰 20건 공감순으로(평점, 작성자닉네임, 리뷰본문)"
   ]
  },
  {
   "cell_type": "code",
   "execution_count": 20,
   "metadata": {},
   "outputs": [],
   "source": [
    "#필요한 라이브러리 불러오기\n",
    "import requests\n",
    "from bs4 import BeautifulSoup\n",
    "import re"
   ]
  },
  {
   "cell_type": "markdown",
   "metadata": {},
   "source": [
    "### 1. 예매순 상위 5개의 현재 상영 중인 영화 가져오기"
   ]
  },
  {
   "cell_type": "markdown",
   "metadata": {},
   "source": [
    "영화 제목, 주연배우 3인"
   ]
  },
  {
   "cell_type": "code",
   "execution_count": 21,
   "metadata": {},
   "outputs": [],
   "source": [
    "#영화제목은 뒤에서 함께 출력할 때 자주 사용할 것 같아서 따로 함수로 만들었습니다\n",
    "def movie_title():\n",
    "    url = 'https://movie.naver.com/movie/running/current.nhn' #url 설정\n",
    "    res = requests.get(url) #url에 request\n",
    "    html = res.text\n",
    "    soup = BeautifulSoup(html, 'html.parser')\n",
    "    \n",
    "    data = soup.find('ul', class_='lst_detail_t1') #영화제목만 쭉 뽑아내기 위해 우선 이 클래스를 찾았고!\n",
    "    data_a = []\n",
    "    for tag in data.find_all('a'): #그 중 a태그부분만 가져왔습니다 \n",
    "        data_a.append(tag.text) #이부분은 영화제목, 장르, 감독, 배우가 모두 포함되어 있는데 영화마다 ''공백으로 나누어져있어서 이를 이용해 제목만 뽑아냈습니다\n",
    "        \n",
    "    movie = []\n",
    "    for i in range(len(data_a)):\n",
    "        if data_a[i] == '': #앞서 가져온 데이터를 돌면서 ''공백을 확인하면 그 다음 인덱스에 존재하는 영화제목을 뽑아내도록 하였습니다\n",
    "            movie.append(data_a[i+1])\n",
    "        if len(movie) == 5: #영화제목 5개만 뽑아내기 위해 5개가 되면 break!\n",
    "            break\n",
    "    return movie #이 함수를 실행하면 영화제목 5개을 return값으로 받아옴\n",
    "    "
   ]
  },
  {
   "cell_type": "code",
   "execution_count": 22,
   "metadata": {},
   "outputs": [],
   "source": [
    "#예매순 상위 5개의 현재 상영 중 영화 제목과 주연배우 3인 가져오는 함수!\n",
    "def movie_title_url_actor():\n",
    "    url = 'https://movie.naver.com/movie/running/current.nhn' #url 설정\n",
    "    res = requests.get(url) #url에 request\n",
    "    html = res.text\n",
    "    soup = BeautifulSoup(html, 'html.parser')\n",
    "    \n",
    "    movie = movie_title() #위에서 정의한 함수로 영화제목 5개를 받아옵니다\n",
    "\n",
    "    actor_all= []\n",
    "    for i in range(len(movie)):\n",
    "        data = soup.select('span[class=\"link_txt\"]')[2+3*i] #link_txt class를 확인하면 각 영화의 개요,감독,출연이 순서대로 반복되어서 나옵니다\n",
    "        #출연 배우를 뽑아내기때문에 index 2, 5, 8....을 뽑아내도록 설정했습니다\n",
    "        actor = []\n",
    "        for tag in data.select('a'): #출연에 대한 data에서 a태그만 뽑아내고, text만 뽑아내게 하여서 주연 배우 3명을 뽑아냅니다\n",
    "            actor.append( tag.text) #이 actor list는 한 영화에 대한 영화배우 list\n",
    "            if len(actor) == 3:\n",
    "                break\n",
    "        actor_all.append(actor) #이 actor_all list는 5개 영화에 각각 주연배우 3명씩 actor list가 들어있는 list\n",
    "    \n",
    "    movie_dict = {}\n",
    "    #딕셔너리로 만들어준다\n",
    "    #5개의 영화제목이랑 영화배우들을 묶어줌!\n",
    "    for i in range(len(movie)): \n",
    "        movie_dict[movie[i]] = actor_all[i]\n",
    "    \n",
    "    print(movie_dict) # 이 함수를 실행하면 영화제목과 주연배우 3인이 출력되도록 함.\n",
    "    \n",
    "    return movie, actor_all #마지막에 데이터프레임으로 합쳐주기 위해서, save함수의 인자값으로 사용하기 위해 return 값 설정\n"
   ]
  },
  {
   "cell_type": "markdown",
   "metadata": {},
   "source": [
    "### 2. 해당 영화의 평점 가져오기"
   ]
  },
  {
   "cell_type": "markdown",
   "metadata": {},
   "source": [
    "네티즌 평점, 관람객 평점, 기자/평론가 평점"
   ]
  },
  {
   "cell_type": "code",
   "execution_count": 23,
   "metadata": {},
   "outputs": [],
   "source": [
    "def get_grade():\n",
    "    url = 'https://movie.naver.com/movie/running/current.nhn' #url 설정\n",
    "    res = requests.get(url)\n",
    "    html = res.text\n",
    "    soup = BeautifulSoup(html, 'html.parser')\n",
    "    \n",
    "    movies = soup.select(\"dl.lst_dsc\") \n",
    "    #해당 영화의 세 평점을 모두 가져오기 위해서는 해당 영화의 url을 들어가야 하므로 해당 url들을 영화마다 구해 list로 만들었습니다 \n",
    "    url_all = []\n",
    "    for m in movies :\n",
    "        title = m.select_one(\"dt.tit a\") \n",
    "        url = title.attrs['href'] #dt.tit의 a태그 중 attr['href']부분들만 뽑아오면 해당페이지로 들어가는 url부분이 나오더라고요 \n",
    "        url_all.append(\"https://movie.naver.com\" + url) #이를 이용해서 url 5개를 완성했습니다\n",
    "        if len(url_all) == 5:\n",
    "            break\n",
    "            \n",
    "    movie = movie_title() #앞서 정의해둔 함수 이용해서 영화 5편의 제목 가져오기\n",
    "            \n",
    "            \n",
    "    score_all = []\n",
    "    for i in url_all: #앞서 구한 url마다 각각 평점을 뽑아온다\n",
    "        url = i\n",
    "        res = requests.get(url)\n",
    "        html = res.text\n",
    "        soup = BeautifulSoup(html, 'html.parser')\n",
    "    \n",
    "        score = soup.select('div[class=\"star_score\"] em', limit=12) #평점을 가지고있는 태그를 가져옴\n",
    "        score_1 = []\n",
    "        add = ''\n",
    "        for i in range(len(score)):   \n",
    "            add += score[i].get_text()\n",
    "            if i in list(range(3,12,4)): #'9','.','0','7'이런식으로 되어있어서 각각 묶어서 list로 저장하기 위해 for문 이용\n",
    "                score_1.append(add) #score_1은 영화 한편당 해당 평점들 저장 list\n",
    "                add = ''\n",
    "        score_all.append(score_1) #score_all은 5편의 영화 각각 평점 모두 저장한 list\n",
    "        \n",
    "    score_dict = {}\n",
    "    \n",
    "    #영화제목과 평점들을 함께 출력하기 위해 딕셔너리로 묶어줌\n",
    "    for i in range(len(movie)): \n",
    "        score_dict[movie[i]] = score_all[i]\n",
    "\n",
    "    print(score_dict) # 이 함수 실행시 딕셔너리 형태로 영화제목과 평점들 주르륵 나오도록!\n",
    "    \n",
    "    return score_all #이건 맨 마지막에 데이터프레임 저장할 때 사용위해 return 값으로 받는다"
   ]
  },
  {
   "cell_type": "markdown",
   "metadata": {},
   "source": [
    "### 3. 관람객 평점 공감순 20건 가져오기"
   ]
  },
  {
   "cell_type": "markdown",
   "metadata": {},
   "source": [
    "평점, 평점 작성자 닉네임, 리뷰 본문"
   ]
  },
  {
   "cell_type": "code",
   "execution_count": 24,
   "metadata": {},
   "outputs": [],
   "source": [
    "#아래함수 안에 넣기에는 너무 길어져서 따로 함수로 정했습니다\n",
    "def function_review(url_all):    # 이함수는 아래서 구하는 url에 들어갔을 때 그 해당 url에서 평점, 평점 작성자 id, 리뷰 본문을 받아옵니다\n",
    "        review_result = []\n",
    "        for i in url_all: # 함수인자로 들어오는 url은 5개의 영화에 대한 url들이 들어있는 list형태이므로 for문으로!\n",
    "            url = i #url설정\n",
    "            res = requests.get(url)\n",
    "            html = res.text\n",
    "            soup = BeautifulSoup(html, 'html.parser')\n",
    "\n",
    "            review = soup.select('div[class=\"score_reple\"] span' ) # score_reple class의 span 태그를 확인하면 리뷰본문과 id가 번갈아가면서 나옵니다\n",
    "\n",
    "\n",
    "            review_id = []\n",
    "\n",
    "            #먼저 id를 가져오기 위해 앞서 받은 데이터(리뷰본문과 id)에서 닉네임(id****)형태로 되어있는 문자열들만 가져오도록해서 id를 뽑아옵니다\n",
    "            id_check1 = re.compile('\\w*\\s*\\w*\\(*\\w*[*]{4}\\)*') #정규표현식 사용!\n",
    "            id_check2 = re.compile('\\w*\\(*\\w*[*]{4}\\)*') \n",
    "\n",
    "            for i in range(len(review)):\n",
    "                check1 = id_check1.match(review[i].get_text().strip())\n",
    "                check2 = id_check2.match(review[i].get_text().strip())\n",
    "\n",
    "                if check1 or check2: #위에서 설정한 형태에 알맞으면 id라고 인식해서 id 리스트에 들어가도록 함\n",
    "                    review_id.append(review[i].get_text().strip())\n",
    "\n",
    "\n",
    "            review_text = []\n",
    "            #다음은 리뷰 본문을 가져옵니다\n",
    "            \n",
    "            for i in range(len(review)):\n",
    "                text = review[i].get_text().strip() # 위에서 구한 데이터를 그대로 사용하되\n",
    "                if (text in review_id) or (text == '관람객'): #위에서 이미 id라고 설정한 문자열과 중간중간에 관람객이라고 설정되어있는 리뷰본문에 필요없다고 판단한 문자열을 제외한 리뷰본문만 \n",
    "                    pass\n",
    "                else:\n",
    "                    review_text.append(text) #review_text에 들어갑니다\n",
    "            \n",
    "            #다음은 평점들을 가져옵니다\n",
    "            score = soup.select('div[class=\"star_score\"] em' ) #평점을 가져오는 다른 class의 em 태그를 사용\n",
    "            review_score = []\n",
    "            for i in range(len(score)):\n",
    "                review_score.append(score[i].get_text()) #평점들을 쭉 가져와서 review_score list에 저장한다\n",
    "\n",
    "            review_page = []\n",
    "\n",
    "            for i in range(len(review_score)): #앞서 구한 평점/ 리뷰본문/ 닉네임(id) 를 각각 묶어서 새로운 리스트에 저장\n",
    "                review_page.append(review_score[i]+ ' / ' +review_text[i]+ ' / '+review_id[i]) #review_page는 한 영화에 대한 리뷰들을 쭉\n",
    "            review_result.append(review_page) #review_result는 5편의 영화에 대한 리뷰들 list를 모두 포함하는 list!\n",
    "\n",
    "        return review_result # 구한 리스트를 return값으로 가져옵니다"
   ]
  },
  {
   "cell_type": "code",
   "execution_count": 25,
   "metadata": {},
   "outputs": [],
   "source": [
    "def get_reviews():\n",
    "    url = 'https://movie.naver.com/movie/running/current.nhn' #url 설정\n",
    "    res = requests.get(url)\n",
    "    html = res.text\n",
    "    soup = BeautifulSoup(html, 'html.parser')\n",
    "    movies = soup.select(\"dl.lst_dsc\")\n",
    "\n",
    "    movie = movie_title() #앞서 정의한 함수 이용해서 영화 제목들 받아온다\n",
    "\n",
    "    url_all_1 = []\n",
    "    url_all_2 = []\n",
    "    for m in movies :\n",
    "        title = m.select_one(\"dt.tit a\") #위에서 평점구할때 사용했던 방법들과 비슷함\n",
    "        url = title.attrs['href']\n",
    "        code = url[-6:] #각각 영화에 따라 달라지는 페이지의 code번호들을 받아온다\n",
    "        #리뷰를 받아오는 url은 모바일버전을 사용했습니다!\n",
    "        url_all_1.append(\"https://movie.naver.com/movie/bi/mi/pointWriteFormList.nhn?code=\" + code+'&type=after&isActualPointWriteExecute=false&isMileageSubscriptionAlready=false&isMileageSubscriptionReject=false&page=1')\n",
    "        #한 페이지당 10개씩 있어서 페이지 1일때, 2일때 따로 url을 저장했습니다\n",
    "        url_all_2.append(\"https://movie.naver.com/movie/bi/mi/pointWriteFormList.nhn?code=\" + code+'&type=after&isActualPointWriteExecute=false&isMileageSubscriptionAlready=false&isMileageSubscriptionReject=false&page=2')\n",
    "        #앞서 구한 각 영화당 코드번호들을 이용해서 평점을 구하는데 필요한 모든 url을 list에 저장!\n",
    "        if len(url_all_1) == 5:\n",
    "            break\n",
    "            \n",
    "    #위에서 정의한 함수를 통해 page1의 url일때 각영화의 리뷰들 10개씩, 똑같이 page2에서 10개씩 받아옵니다\n",
    "    review_page_1 = function_review(url_all_1)\n",
    "    review_page_2 = function_review(url_all_2)\n",
    "\n",
    "    review_page = []\n",
    "    #page1과 page2을 더해줍니다\n",
    "    for i in range(len(review_page_1)):\n",
    "        review_page.append(review_page_1[i]+review_page_2[i])\n",
    "\n",
    "\n",
    "    review_dict = {}\n",
    "    #영화별로 dictionary로 만들어서 제목과 평점/닉네임/본문이 쭉 나오도록 했습니다\n",
    "\n",
    "    for i in range(len(movie)): \n",
    "        review_dict[movie[i]] = review_page[i]\n",
    "\n",
    "    print(review_dict) # 이 함수를 실행했을 때 review에 대해서 쭉 출력되게 함\n",
    "\n",
    "    return review_page #이건 나중에 dataframe으로 저장할때 필요하니까 return값으로 !"
   ]
  },
  {
   "cell_type": "markdown",
   "metadata": {},
   "source": [
    "### 4. 저장하기"
   ]
  },
  {
   "cell_type": "code",
   "execution_count": 26,
   "metadata": {},
   "outputs": [],
   "source": [
    "#앞서 구한 정보들을 인자로 받아와서 모두 합쳐서 dataframe형태로 만들고 csv, excel형태로 저장하는 함수\n",
    "def save(movie,actor,score,review): #앞서 구한 데이터들을 인자로 받아옵니다\n",
    "    import pandas as pd\n",
    "     \n",
    "    df = pd.DataFrame() #dataframe형태로 만들었습니당\n",
    "    df['영화'] = movie\n",
    "    df['주연배우'] = actor\n",
    "    df['네티즌 평점, 관람객 평점, 기자/평론가 평점'] = score\n",
    "    df['평점/평점 작성자 닉네임/리뷰 본문'] = review\n",
    "    \n",
    "    #각 column들에 데이터들을 각각 넣어주고\n",
    "    #csv형태와 xlsx로 형태로 저장시켜준다!\n",
    "    df.to_csv('naver_movie.csv')\n",
    "    df.to_excel('naver_movie.xlsx')"
   ]
  },
  {
   "cell_type": "markdown",
   "metadata": {},
   "source": [
    "### 5. 크롤링하기"
   ]
  },
  {
   "cell_type": "code",
   "execution_count": 27,
   "metadata": {},
   "outputs": [
    {
     "name": "stdout",
     "output_type": "stream",
     "text": [
      "{'지푸라기라도 잡고 싶은 짐승들': ['전도연', '정우성', '배성우'], '정직한 후보': ['라미란', '김무열', '나문희'], '1917': ['조지 맥케이', '딘-찰스 채프먼'], '작은 아씨들': ['시얼샤 로넌', '엠마 왓슨', '플로렌스 퓨'], '클로젯': ['하정우', '김남길', '허율']}\n"
     ]
    }
   ],
   "source": [
    "data = movie_title_url_actor() #예매순 상위 5개의 현재 상영 중인 영화 가져오는 함수(출력!)"
   ]
  },
  {
   "cell_type": "code",
   "execution_count": 28,
   "metadata": {},
   "outputs": [],
   "source": [
    "movie = data[0] #영화제목들 \n",
    "actor = data[1] #주연배우들"
   ]
  },
  {
   "cell_type": "code",
   "execution_count": 29,
   "metadata": {},
   "outputs": [
    {
     "name": "stdout",
     "output_type": "stream",
     "text": [
      "{'지푸라기라도 잡고 싶은 짐승들': ['8.67', '6.71', '7.18'], '정직한 후보': ['8.71', '5.38', '7.73'], '1917': ['9.40', '7.67', '9.02'], '작은 아씨들': ['9.24', '8.00', '8.89'], '클로젯': ['8.41', '5.50', '6.87']}\n"
     ]
    }
   ],
   "source": [
    "data = get_grade() #해당 영화의 평점 가져오는 함수(네티즌 평점, 관람객 평점, 기자/평론가 평점) (출력!)"
   ]
  },
  {
   "cell_type": "code",
   "execution_count": 30,
   "metadata": {},
   "outputs": [],
   "source": [
    "score = data #평점들(네티즌 평점, 관람객 평점, 기자/평론가 평점)"
   ]
  },
  {
   "cell_type": "code",
   "execution_count": 31,
   "metadata": {},
   "outputs": [
    {
     "name": "stdout",
     "output_type": "stream",
     "text": [
      "{'지푸라기라도 잡고 싶은 짐승들': ['10 / 난 전도연의 화류계 캐릭터가 좋다. 무뢰한, 너는 내 운명, 카운트다운...그리고 지푸라기 / bohemian(mabu****)', '10 / 전도연 연기 진짜 오진다...와 이 영화에서 완전 섹시하게 나온다 역시 명불허전임... / 최정규(cjg4****)', '10 / 8명의 배우가 모두 주인공 같은 느낌. / 달다(fxko****)', '1 / 아니 개봉당일날 9시 땡하고 부터 평점 쏟아지는게 말이 돼냐? 요즘 조조는 꼭두새벽부터 함? 백번양보해서 시사회때 봤다 쳐도 이렇게나 많이 봤다고? 죄다 똑같은 말투에? 음원이고 영화고 조작질 역겹다 진짜 / 어쩌라고(dpfk****)', '9 / 개존잼 역시 전도연이죠? 카리스마 미쳐벌여ㅠㅁㅠ / 써니(tlag****)', '10 / 연출, 연기, 스토리 모두 대박...무조건 보세요. / 까칠소녀(oper****)', '9 / 진짜 보고싶었던 영환데 드디어 봤습니당 기다린 보람이 있네용ㅋㅋㅋ 등장인물이 많았는데 영화 속에서 잘 풀어낸 것 같아요 강추합니당 !! / haeunnnnn(0_80****)', '9 / 한국식 피칠갑을 한 타란티노 영화 / hojo****', '9 / 연기오지고 스릴오지고 / Cjin(dlck****)', '10 / 스토리가 짱짱하네요~ 심리적인 긴장감을 잘 살린 영화인것 같네요~ 인기좀 끌듯... / trau****', '10 / 연기 쩐다잉 ,,, 또 보고 싶음 ㅠ / 꽁끼(bamb****)', '1 / 방금 보고 왔는데 지금 심정이 지푸라기라도 잡고 싶은 심정이다 / osk1****', '10 / 전도연을 위한, 전도연에 의한 영화! 데뷔작이라고는 믿을수 없는 연출력에놀랐다~ / Linus(getu****)', '10 / 이 캐스팅 너무 마음에 든다.영화보고나서도 할말이 많아지는 영화 / myd5q3ji7(i2g1****)', '9 / 솔직히 이 영화 돈주고 볼만합니다ㅎㅎ / 파리투나잇(lgxe****)', '1 / 영화 보는 내내 제발 한순간만이라도 재미있는 장면 나오길 지푸라기 잡는 심정으로 봤는데 없음 / DooGi(vxor****)', '10 / 전도연 등장하자마자 걍 스크린 장악함ㅋㅋㅋㅋ역시 전도연이 선택한 작품은 안보고 넘어갈 수 없지 / 시무룩(simu****)', '9 / 다들너무연기를잘하고일단 이런 스토리탄탄한영화 오랜만이네요 굿굿구성도재밋고 / 히피아(whdt****)', '10 / 인정할 수 밖에 없는 영화 / nu(zkkb****)', '10 / 믿고보는 칸의 여왕 전도연!! 정우성, 배성우 등등 진짜 미친 명품 조연들...!! 스릴러의 긴장도, 몰입도 괜찮은 영화~ / 꿈꾸는피터팬(dowk****)'], '정직한 후보': ['6 / 솔직히 그렇게 엄청 웃긴지는 모르겠어요 / lililli(wken****)', '10 / 너무 재밌었어용ㅠ 라미란 짱멋… / 김다솜(kmjd****)', '5 / 너무 기대를 많이 했나. 생각보다는 별로.... 스토리가 아쉽고, 뒤로 갈수록 억지웃음과 신파때문에... 표현하고자하는건 알겠으나 라미란씨를 주연으로 썼으면서 좀 아쉽습니다. / 기다리다번개처럼(ange****)', '10 / 역시 라미란 코미디 연기는 진리다 ㅋㅋㅋㅋ / 벚꽃의계절(twic****)', '10 / 엥 댓글 알바라고 하먄서 평점 ㅈㄴ 낮춰놓는 게 더 댓글 알바같음 ;; 노잼 조폭 알탕 영화들보다 훨~~씬 나음 라미란 배우님 나문희 배우님 김무열 배우님 윤경호 배우님 외 많은 배우님들 ㅇ코믹 연기 넘 조와요 ㅈㄴ... / 하니(what****)', '2 / 엥 댓글 알바라고 하먄서 평점 ㅈㄴ 낮춰놓는 게 더 댓글 알바같음 ;; 노잼 조폭 알탕 영화들보다 훨~~씬 나음 라미란 배우님 나문희 배우님 김무열 배우님 윤경호 배우님 외 많은 배우님들 ㅇ코믹 연기 넘 조와요 ㅈㄴ... / 위버멘쉬(prof****)', '9 / 영화의 전체적인 취지와 전개는 이해하지만 너무 엉성한 구조와 표현력이 아쉬웠던 졸작^^; / 옹잉앙웅(t21g****)', '10 / 개그 코드가 딱 내 스타일이야ㅋㅋ / 공주(prin****)', '9 / 아니 사람들마다 좋아하는 요소가 다르고 생각하는게 다른데 왜 자기랑 다르면 다 댓글알바라하는거지?; 일반화 오지네 / 샤샤샷(pnxq****)', '10 / 기대없이 봐서 그런가 너무 웃음-_-ㅋㅋ / 고미진(dbal****)', '1 / 대체 어떤부분이 웃낀거야 ?? / oen88(e2ro****)', '4 / 음... 내가 생각하는 재미랑 여기 사람들이 재밌다고 말하는 재미랑 다른건가..?? / 김호민(ooho****)', '4 / 시간이갈수록 실망스러워졌다... / 우주인(ljhl****)', '10 / 오락영화로 즐기기엔 손색없다 / 김고은(safi****)', '4 / 부모님은 재밌다고 하시는데 저는 좀 지루했어요.. 피식피식 몇번 웃은듯.. 유머코드 맞는 분들이 보시면 좋겠네요 / 구슬잉(12mi****)', '5 / 솔직히 말할게요. 보고 왔는데 별로인 영화에요. 많이 오글거리기도 하고 전형적인 어설픈 코미디 한국영화의 클리셰가 다 들어가있네요.  저도 유튜브랑 여기 평점들 읽고 꽤 기대하면서, 그래도 괜찮은 영화겠지 했는데. ... / sehd****', '2 / 솔직히 말할게요. 보고 왔는데 별로인 영화에요. 많이 오글거리기도 하고 전형적인 어설픈 코미디 한국영화의 클리셰가 다 들어가있네요.  저도 유튜브랑 여기 평점들 읽고 꽤 기대하면서, 그래도 괜찮은 영화겠지 했는데. ... / 페르난도토레기(appl****)', '9 / 넷플릭스에서 해주면 20분정도보다가 끄고 유튜브보러갈만한영화 / 양다리(atdx****)', '1 / 코미디영화인데 뭔가 코미디영화같기도하고 가족영화 같기도하고 재밌더라 ㅋ / yoshi(nons****)', '6 / 진심 재미있냐이게?? 양심좀챙기자 / 시크릿진쥬(kang****)'], '1917': ['10 / 이 영화는 미쳤다. 넷플릭스가 일상화된 시대에 극장이 존재해야하는 이유를 증명해준다. / 6월의매(hawk****)', '8 / 충무로: 이거 어케하는거냐? / hose(jsd9****)', '10 / 촬영감독의 영혼까지 갈아넣은 마스터피스 / 소원열차(alst****)', '10 / 아카데미에서 촬영상, 음향효과상, 시각효과상을 받은 이유가 고스란히 녹아있는 영화. IMAX로 관람하는걸 추천한다. / 소호(katy****)', '10 / 오스카 작품상 탔어도 할말 없었을것 같다. / rw06****', '10 / 주인공을 카메라가 계속 따라가는데.. 세트장이 엄청 넓은거에 놀랐습니다. 직접 1차대전에 참전하는 느낌.. 이때당시 군인들 20년뒤 히틀러라는 극악의 악마로 자식들 다 전장에 몰리고 더 최악의 고통을 받을껀데 참..... / Shinon(maxi****)', '10 / 주인공을 카메라가 계속 따라가는데.. 세트장이 엄청 넓은거에 놀랐습니다. 직접 1차대전에 참전하는 느낌.. 이때당시 군인들 20년뒤 히틀러라는 극악의 악마로 자식들 다 전장에 몰리고 더 최악의 고통을 받을껀데 참..... / 느와르(igel****)', '10 / 솔직히 연출력만으로 최고의 영화다. 마치 우리가 투명인간이 되서 그들을 지켜보는 듯했다. 마지막장면은 영화 내내 쉴시간이 없었던것에 대한 피로감을 풀어줘서 기승전결도 완벽. / 마른멸치(ally****)', '10 / 닥터스트레인지의 판단력이 좋았다. / jeon****', '10 / 아카데미 작품상이야 작품전체를 보는거니 기생충이 받을수도 있다고 보는데 감독상은 1917 줬어도 할말 없음. 감독의 참신성이 빛을 발함. 결론적으로 아카데미 작품상과 감독상을 1917이 받았어도 아무 할말 없는 것이... / dade****', '10 / 스포일러가 포함된 감상평입니다. 감상평 보기 / 신형주(shj0****)', '10 / 노래 쳐 안듣고 뛰어갔으면 80명은 더 살렸겠다 / 튼튼맘(hyun****)', '10 / 관객을 1917년 4월 6일로 데려놓는 마법같은 작품 / 모든뜻(saye****)', '10 / 솔직히 나는 기생충보다 이영화가 더 재미있었다. / 어머어머(asas****)', '10 / 진짜 원테이크 장면 너무 긴거 아님?? 촬영하기 진짜 힘들었을 듯... / 정제니(belo****)', '10 / 앞으로 유사한 영화가 나올때마다 회자될 작품. 특히 원테이크로 보이게 하는 촬영과 연출은 봐도봐도 놀랍다. / mhho(mhho****)', '9 / 셜록을 찾아 떠나는 여정은 왜이리 험난한가 / U 현(rhdb****)', '10 / 원테이크 촬영신은 볼때마다 대단하다 후보에 오를만 했음 / 두용(mnil****)', '10 / 막판에 횡으로 수많은 병사가 신호와 함께 우르르 튀어나올때 주인공 혼자 종으로 막 달리는 장면 와 진짜ㅋㅋㅋㅋ대박 무조건 아이맥스로 보세요! / 죄니(sosk****)', '10 / 일단..극장에서 보는걸  추천드립니다.카메라감독 상 줘야 할판  엄청나게  잘 찍음 / cin(cine****)'], '작은 아씨들': ['10 / 재밌다고 느끼면 추천을 아니다 비추천 / 문덕현(mdh0****)', '10 / 왜 여성은 사랑을 해야하냐며 말하면서도 사랑을 받고 싶다고 외치던 장면이 너무나 울컥했다 ㅜ 조 꽃길만 걷길~ / 이쁘구나(ehsk****)', '8 / 철없는 막내로만 재현되어왔던 에이미 캐릭터의 재발견. 어쩌면 자매 중에서 제일 고민이 많고 영리했을 여성으로. / 10(loli****)', '10 / “자매를 미워하기엔 인생이 너무 짧아.“ 라는 명대사가 내 마음 속에 강하게 들어왔다. / 김도아(1204****)', '10 / 조가 여자의 전부가 사랑이라는 말이 지긋지긋하지만 너무 외롭다는 말이 공감이 간다. 무기력해지는 자신을 보며 슬퍼하는 걸 보니,나를 보는것 같아 더 슬펐다. / 파야(paya****)', '10 / 영화를 보고 나니 조를 응원하는 내 자신을 발견했다. 잔잔한 감동과 재미가 있는 영화. / anh(abri****)', \"9 / '우리의 어린시절이 끝이났다니 믿겨지지 않아.'격렬하고도 잔잔한 따뜻했던 가족이야기. / 재이(oran****)\", '10 / 13살 때 1995년도판 <작은 아씨들>을 보고 에이미를 네 자매 중 가장 미워했다. 에이미는 욕심많고 허영기 가득한 인물로 보였기 때문이다. 그런데 시간이 흘러 새로 각색한 <작은 아씨들>을 ... / cmyk(cmyk****)', '8 / 13살 때 1995년도판 <작은 아씨들>을 보고 에이미를 네 자매 중 가장 미워했다. 에이미는 욕심많고 허영기 가득한 인물로 보였기 때문이다. 그런데 시간이 흘러 새로 각색한 <작은 아씨들>을 ... / ebbo0(kii1****)', '10 / 내가 영화를 사랑하는 이유 / 김문석(eorf****)', '10 / 영화보다가 나도 모르게 계속 눈물이 나더라.조에 입혀진 나를 만나고, 아직 갈팡질팡한 나에게 조는 말해주는 것 같았어요 / cottoncandypeony(jiy0****)', '10 / 화려한 의상과 경이로운 스토리, 거기에 더해진 훌륭한 연기로 아름다운 영화를 조각했다. / 놀란(son7****)', '8 / 그냥 티모씨 나올 때마다 심장 부여잡고 봤다.. 나만 마지막 에이미 빡쳐...? / 제니(may6****)', '10 / 잔잔하지만 깊은 호수같은 영화 / 드드둠(bayl****)', '10 / 조를 보는 내내 응원했다. 조의 마지막 선택이 아쉽다. / 오키드(purp****)', '8 / 시간의 재배치로 고전을 새롭게 만든 그레타 거윅의 마술. 뛰어난 감독이 손을 대니 고전이 더욱 빛을 내는구나 / rocker(nail****)', '10 / 다들 왜이리 연기를 잘하는건가요.. / 키엘(qjwq****)', '10 / 한 장면, 장면마다 가슴 벅찰 정도로 행복감을 주는 영화.보는 내내 웃고 울었다. / 아진(jane****)', '10 / 조역할을 한 배우님 연가 되게 잘하시더라 / 하린(thee****)', '10 / 시얼샤로넌 연기 미쳤… 진짜 짱짱 / 선자(btid****)'], '클로젯': ['10 / 김남길 미치게 섹시하다 진심 / 깜땀(qw13****)', '1 / 솔직한 평점은5.5점 정도?이 영화를 보면서 느낀건 평점알바가 정말 대단하다는것뿐이 영화가 9점대인건 너무나 큰 사기이기 때문에 1점드립다 / KCJ0212(lahe****)', '10 / 김남길 배우 연기천재 인증. 몰입력 흡입력 ㅎㄷㄷ함. 미모열일로 지루할 틈도 없음. 오컬트 무비 못보는데도 감동도 있어서 코로나 뚫고 요즘 젤 볼만한 가치가 있는 영화임. / gilbest(sjca****)', '10 / 하정우 김남길 최고의 조합 / 지민(asdf****)', '10 / 일단 도입부 부터 온몸에소름...그 기담에서 귀신맡으신분이 무당으로 나오시는대진짜 집중하게하고 시작하네요 / nobl****', '2 / 초반 10분이 전부인 영화. 실망감만 가득. 무섭지도 재밌지도 않았다. / 날고싶어(ljm8****)', '9 / 퇴마사 김남길 얼굴만으로 공포극복 가능. 공포영화에서조차 빛나는 눈빛연기 장인. / Hjng(alst****)', '10 / 거꾸로 거슬러 오르는 연어들처럼 신선했습니다. 코로나 이길 수 있겠는데요? / 황매력(hys8****)', '9 / 재밌으면 추천 재미없으면 비추천 / 메딕(asqz****)', '10 / 미스터리 처돌이로 이런 장르 정말 많이 나왔으면 좋겠는데 하필 코로나때 나왔네요ㅠㅠ긴장감 있게 잘봤습니다 확실히 또 다른 느낌의 영화였어요 단순히 장르적으로 국한되지 않는!! 배우들 다들 연기 잘하시고 다들 한번씩 ... / WB(lwon****)', '10 / 진짜 미친존재감은 아역배우들..진정한 씬스틸러임 ㅠ / 행(your****)', '10 / 단순한 공포만 보여주는 영화가 아니라 공포 속에서 감동적인 스토리를 전개해서 교훈까지 준다는 게 인상 깊었어요 공포영화 잘 못보는데 클로젯 몇번이나 봅니다 ㅠㅠ 또한 김남길 하정우 두 배우님의 연기와 아역배우들의 연... / 서연(chlt****)', '10 / 단순한 공포만 보여주는 영화가 아니라 공포 속에서 감동적인 스토리를 전개해서 교훈까지 준다는 게 인상 깊었어요 공포영화 잘 못보는데 클로젯 몇번이나 봅니다 ㅠㅠ 또한 김남길 하정우 두 배우님의 연기와 아역배우들의 연... / 클로버(ej2r****)', '1 / 배우들 연기보는 맛나고, 긴장감에 두손을 꼭 쥐게 되는 영화 / anyt****', '10 / 윤정빈, 하정우의 떡밥영화.한/중/일/미 미완성 공포퍼즐. 감독이 참고한 모든 영화를 알수있는 영화.과감하게 모든영화를 카피하는 감독에 비양심이 가장 무서운 영화.차마 출연한 아역배우들이 상처 받을까 상욕은 못하겠는... / 2023032(yjpa****)', '1 / 윤정빈, 하정우의 떡밥영화.한/중/일/미 미완성 공포퍼즐. 감독이 참고한 모든 영화를 알수있는 영화.과감하게 모든영화를 카피하는 감독에 비양심이 가장 무서운 영화.차마 출연한 아역배우들이 상처 받을까 상욕은 못하겠는... / 지애(maln****)', '10 / 하정우 김남길 캐스팅ㅠㅠ넘 좋았고 너무 재밌었음...그냥 공포 영화가 아니라 메시지도 있고 이런 영화는 오랜만인듯! / 삡(jiny****)', '10 / 최근에 본 것 중에 제일 최악.. / maimai(enma****)', '10 / 김남길 눈빛이 다했다..재밌어요 / 난꽃이다(play****)', '10 / 진짜 심장 쫄깃하고 무서움 ㄷㄷㄷ 이건 극장에서 봐야함 / 곰수니(goms****)']}\n"
     ]
    }
   ],
   "source": [
    "data = get_reviews() #관람객 평점 공감순 20건 가져오는 함수(평점, 평점 작성자 닉네임, 리뷰 본문)"
   ]
  },
  {
   "cell_type": "code",
   "execution_count": 32,
   "metadata": {},
   "outputs": [],
   "source": [
    "review = data #review"
   ]
  },
  {
   "cell_type": "code",
   "execution_count": 33,
   "metadata": {},
   "outputs": [],
   "source": [
    "save(movie,actor,score,review) #파일로 저장!"
   ]
  }
 ],
 "metadata": {
  "kernelspec": {
   "display_name": "Python 3",
   "language": "python",
   "name": "python3"
  },
  "language_info": {
   "codemirror_mode": {
    "name": "ipython",
    "version": 3
   },
   "file_extension": ".py",
   "mimetype": "text/x-python",
   "name": "python",
   "nbconvert_exporter": "python",
   "pygments_lexer": "ipython3",
   "version": "3.7.4"
  }
 },
 "nbformat": 4,
 "nbformat_minor": 4
}
